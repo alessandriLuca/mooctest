{
 "cells": [
  {
   "cell_type": "code",
   "execution_count": 2,
   "id": "8c2ba78a-f812-4874-b687-39db1a38f902",
   "metadata": {},
   "outputs": [],
   "source": [
    "a=read.table(\"/SharedFolder/Data/listOfPatient.txt\")"
   ]
  },
  {
   "cell_type": "code",
   "execution_count": 3,
   "id": "30783826-ca04-43c1-90e7-314bb033bdf5",
   "metadata": {},
   "outputs": [
    {
     "name": "stdout",
     "output_type": "stream",
     "text": [
      "     V1\n",
      "1  luca\n",
      "2 marta\n",
      "3 maria\n"
     ]
    }
   ],
   "source": [
    "print(a[1])"
   ]
  },
  {
   "cell_type": "code",
   "execution_count": null,
   "id": "9f7db377-e17c-4170-b1ed-07045cf2f157",
   "metadata": {},
   "outputs": [],
   "source": []
  }
 ],
 "metadata": {
  "kernelspec": {
   "display_name": "R",
   "language": "R",
   "name": "ir"
  },
  "language_info": {
   "codemirror_mode": "r",
   "file_extension": ".r",
   "mimetype": "text/x-r-source",
   "name": "R",
   "pygments_lexer": "r",
   "version": "4.2.0"
  }
 },
 "nbformat": 4,
 "nbformat_minor": 5
}
